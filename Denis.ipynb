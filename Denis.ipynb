{
 "cells": [
  {
   "cell_type": "markdown",
   "metadata": {},
   "source": [
    "# Pour bien commencer\n",
    "## Activités\n",
    "\n",
    "•Entrées : Quel est ton nom ? : A\n",
    "•Entrées : Premier nombre ? : B\n",
    "•Entrées : Deuxiéme nombre ? : C\n",
    "•Entrées : 1 pour addition ou 2 pour\n",
    "multiplication : D\n",
    "•Calculer E   B + C\n",
    "•Calculer F   B × C\n",
    "•si . . . alors\n",
    "Sorties : \"Bonjour\",A,\"le résultat est\",E\n",
    "fin\n",
    "•si . . . alors\n",
    "Sorties : \"Bonjour\",A,\"le résultat est\",F\n",
    "fin\n",
    "\n",
    "1. Quelles sont les différences entre l’algorithme et le programme ci-contre.\n",
    "\n",
    "2. Quelles sont les points communs entre l’algorithme et le programme ci-contre.\n",
    "\n",
    "3. Combien y a-t-il de variable ? \n",
    "4. Combien y a-t-il de variable d’entrées ? \n",
    "5. Combien y a-t-il de variable de sortie ? \n",
    "6. Quelle est la différence entre la variable A et la variable B ?\n",
    "7. Trouver deux autres variables qui ne sont pas du même type ?\n",
    "8. Compléter les lignes 7 et 10 de l’algorithme.\n",
    "9. Compléter les lignes 7 et 10 du programme python.\n",
    "10. Quelle est la différence entre le signe = de la ligne 5 et le == de la ligne 7 du programme python ?\n",
    "11. Si quelqu’un répond « 3 » pour la ligne 4 ?\n",
    "12. Si quelqu’un répond « jkl » pour la ligne 4 ?\n",
    "13. Si quelqu’un répond « 1 » pour la ligne 1 ?"
   ]
  },
  {
   "cell_type": "code",
   "execution_count": 1,
   "metadata": {},
   "outputs": [
    {
     "ename": "SyntaxError",
     "evalue": "invalid syntax (<ipython-input-1-eec8af4ffb6a>, line 7)",
     "output_type": "error",
     "traceback": [
      "\u001b[1;36m  File \u001b[1;32m\"<ipython-input-1-eec8af4ffb6a>\"\u001b[1;36m, line \u001b[1;32m7\u001b[0m\n\u001b[1;33m    if:\u001b[0m\n\u001b[1;37m      ^\u001b[0m\n\u001b[1;31mSyntaxError\u001b[0m\u001b[1;31m:\u001b[0m invalid syntax\n"
     ]
    }
   ],
   "source": [
    "A=input(\"quel est ton nom ? \")\n",
    "B=float(input(\" premier nombre ? \"))\n",
    "C=float(input(\" deuxieme nombre ? \"))\n",
    "D=int(input(\"tape 1 pour addition ou 2 pour multiplication\" ))\n",
    "E=B+C\n",
    "F=B*C\n",
    "if:\n",
    "  print(\" Bonjour \" ,A)\n",
    "  print( \"le resultat est \",E)\n",
    "if:\n",
    "  print(\" Bonjour \",A)\n",
    "  print(\" le resultat est \",F)\n",
    "                    "
   ]
  },
  {
   "cell_type": "markdown",
   "metadata": {},
   "source": [
    "## Résumé de cours\n",
    "### Algorithme-Programme\n",
    "Un algorithme est une suite d’instructions élémentaires s’appliquant dans un ordre déterminé à des données et fournissant en un nombre fini d’étapes des résultats.\n",
    "Un programme est la traduction d’un algorithme pour qu’un ordinateur puisse l’exécuter.\n",
    "Nous utiliserons le langage de programmation Python.\n",
    "\n",
    "&nbsp;\n",
    "### Variables\n",
    "Dans un programme, une variable est repérée par un nom et possède une valeur qui évolue au cours de l’exécution du programme. On peut la schématiser par une boîte (un emplacement de la mémoire d’un ordinateur) qui porte une étiquette et son contenu.\n",
    "Python utilise 5 types de variable différents :\n",
    "• nombre entier (integer -> int) ;\n",
    "• nombre flottant (nombre à virgule, floating point number -> float) ;\n",
    "• chaîne de caractères (character string -> str) ;\n",
    "• liste (collection d’éléments écrits entre [ ] ;\n",
    "• booléen (boolean ! bool prend la valeur True ou False).\n",
    "\n",
    "\n",
    "&nbsp;\n",
    "## Exercices\n",
    "### Interaction n° 1\n",
    "python avec lien où ils doivent entrer quelque chose pour obtenir tous les types"
   ]
  },
  {
   "cell_type": "code",
   "execution_count": 2,
   "metadata": {},
   "outputs": [
    {
     "data": {
      "text/plain": [
       "int"
      ]
     },
     "execution_count": 2,
     "metadata": {},
     "output_type": "execute_result"
    }
   ],
   "source": [
    "a=2\n",
    "type(a)"
   ]
  },
  {
   "cell_type": "markdown",
   "metadata": {},
   "source": [
    "Noter vos résultats pour obtenir les types de variable :\n",
    "\n",
    "| int | float | str | list | bool |\n",
    "| --- | --- | --- | --- | --- |\n",
    "| Celule 1.1 | Celule 1.2 | Celule 1.3 | Celule 1.4 | Celule 1.5 |\n",
    "\n",
    "<table>\n",
    "    <thead>\n",
    "        <tr>\n",
    "            <th>int</th>\n",
    "            <th>float</th>\n",
    "            <th>str</th>\n",
    "            <th>list</th>\n",
    "            <th>bool</th>\n",
    "        </tr>\n",
    "    </thead>\n",
    "    <tbody>\n",
    "        <tr>\n",
    "            <td>Celule 1.1</td>\n",
    "            <td>Celule 1.2</td>\n",
    "            <td>Celule 1.3</td>\n",
    "            <td>Celule 1.4</td>\n",
    "            <td>Celule 1.5</td>\n",
    "        </tr>\n",
    "    </tbody>\n",
    "</table>"
   ]
  },
  {
   "cell_type": "markdown",
   "metadata": {},
   "source": [
    "### Interaction n° 2\n",
    "J’aimerais un programme qui calcule le carré d’un nombre. Chercher l’erreur."
   ]
  },
  {
   "cell_type": "code",
   "execution_count": 3,
   "metadata": {},
   "outputs": [
    {
     "ename": "SyntaxError",
     "evalue": "invalid syntax (<ipython-input-3-3e9288e871d5>, line 1)",
     "output_type": "error",
     "traceback": [
      "\u001b[1;36m  File \u001b[1;32m\"<ipython-input-3-3e9288e871d5>\"\u001b[1;36m, line \u001b[1;32m1\u001b[0m\n\u001b[1;33m    a=input(premier nombre)\u001b[0m\n\u001b[1;37m                         ^\u001b[0m\n\u001b[1;31mSyntaxError\u001b[0m\u001b[1;31m:\u001b[0m invalid syntax\n"
     ]
    }
   ],
   "source": [
    "a=input(premier nombre)\n",
    "c=a**2\n",
    "print(c)"
   ]
  },
  {
   "cell_type": "markdown",
   "metadata": {},
   "source": [
    "### Interaction n° 3\n",
    "python avec lien ou ils doivent compléter le programme (exo ludo sur les opérations de base)"
   ]
  },
  {
   "cell_type": "code",
   "execution_count": null,
   "metadata": {
    "collapsed": true
   },
   "outputs": [],
   "source": []
  }
 ],
 "metadata": {
  "kernelspec": {
   "display_name": "Python 3",
   "language": "python",
   "name": "python3"
  },
  "language_info": {
   "codemirror_mode": {
    "name": "ipython",
    "version": 3
   },
   "file_extension": ".py",
   "mimetype": "text/x-python",
   "name": "python",
   "nbconvert_exporter": "python",
   "pygments_lexer": "ipython3",
   "version": "3.6.3"
  }
 },
 "nbformat": 4,
 "nbformat_minor": 2
}
